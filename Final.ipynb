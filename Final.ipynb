{
  "nbformat": 4,
  "nbformat_minor": 0,
  "metadata": {
    "colab": {
      "provenance": [],
      "authorship_tag": "ABX9TyNKYT0+BPTg7tLsMN2h22tZ",
      "include_colab_link": true
    },
    "kernelspec": {
      "name": "python3",
      "display_name": "Python 3"
    },
    "language_info": {
      "name": "python"
    }
  },
  "cells": [
    {
      "cell_type": "markdown",
      "metadata": {
        "id": "view-in-github",
        "colab_type": "text"
      },
      "source": [
        "<a href=\"https://colab.research.google.com/github/Aryan-31-3/Etl_meta_1/blob/main/Final.ipynb\" target=\"_parent\"><img src=\"https://colab.research.google.com/assets/colab-badge.svg\" alt=\"Open In Colab\"/></a>"
      ]
    },
    {
      "cell_type": "code",
      "execution_count": 1,
      "metadata": {
        "id": "7aip4c3H7gFf"
      },
      "outputs": [],
      "source": [
        "import pandas as pd \n",
        "import json\n",
        "import csv\n",
        "import numpy as np\n",
        "import datetime"
      ]
    },
    {
      "cell_type": "code",
      "source": [
        "from google.colab import drive\n",
        "drive.mount('/content/drive') #we won't use it"
      ],
      "metadata": {
        "colab": {
          "base_uri": "https://localhost:8080/"
        },
        "id": "LSTiwuM67vla",
        "outputId": "81e088dd-56fa-43dd-92d2-bfdf498c9e52"
      },
      "execution_count": 2,
      "outputs": [
        {
          "output_type": "stream",
          "name": "stdout",
          "text": [
            "Drive already mounted at /content/drive; to attempt to forcibly remount, call drive.mount(\"/content/drive\", force_remount=True).\n"
          ]
        }
      ]
    },
    {
      "cell_type": "code",
      "source": [
        "df_quotations=pd.read_csv('/content/drive/MyDrive/etl_spd_meta/Test/quotations_test_final.csv') #we won't use it\n",
        "df_customer=pd.read_csv('/content/drive/MyDrive/etl_spd_meta/Test/customers_test_final.csv') #we won't use it\n",
        "df_activity=pd.read_csv('/content/drive/MyDrive/etl_spd_meta/Test/activitylogs_test_final.csv') #we won't use it"
      ],
      "metadata": {
        "id": "DuXhAT2W723m"
      },
      "execution_count": 3,
      "outputs": []
    },
    {
      "cell_type": "code",
      "source": [
        "df_customer.columns"
      ],
      "metadata": {
        "colab": {
          "base_uri": "https://localhost:8080/"
        },
        "id": "HD7D3xp_SzXg",
        "outputId": "f56c0f88-c60e-4937-bc17-9ac98314228c"
      },
      "execution_count": 4,
      "outputs": [
        {
          "output_type": "execute_result",
          "data": {
            "text/plain": [
              "Index(['__v', '_id', 'city', 'companyAddress', 'companyName', 'contactNumber',\n",
              "       'createdAt', 'customerName', 'customerPriority', 'customerRazorpayId',\n",
              "       'email', 'gstin', 'industrySegment', 'numberOfQuotations', 'pincode',\n",
              "       'state', 'updatedAt'],\n",
              "      dtype='object')"
            ]
          },
          "metadata": {},
          "execution_count": 4
        }
      ]
    },
    {
      "cell_type": "code",
      "source": [
        "df_quotations.columns"
      ],
      "metadata": {
        "colab": {
          "base_uri": "https://localhost:8080/"
        },
        "id": "uxlQyIHUTXti",
        "outputId": "30be73d3-1e8e-4745-e240-85e4374b73d5"
      },
      "execution_count": 5,
      "outputs": [
        {
          "output_type": "execute_result",
          "data": {
            "text/plain": [
              "Index(['__v', '_id', 'createdAt', 'customerEmail', 'customerId',\n",
              "       'customerName', 'files', 'isParent', 'parentId', 'pricingAnalystEmail',\n",
              "       'procurementCoordinatorEmail', 'procurementExpertEmail',\n",
              "       'procurementPriority', 'quotationNumber', 'quotationPriority',\n",
              "       'quotationState', 'salesExecutiveEmail', 'stateMetaData', 'subOrderIds',\n",
              "       'subTotal', 'technicalSalesExecutiveEmail', 'updatedAt'],\n",
              "      dtype='object')"
            ]
          },
          "metadata": {},
          "execution_count": 5
        }
      ]
    },
    {
      "cell_type": "code",
      "source": [
        "cols=['__v', '_id', 'createdat', 'customeremail',\n",
        "       'customerid', 'customername', 'files', 'isparent', 'parentid',\n",
        "       'pricinganalystemail', 'procurementcoordinatoremail',\n",
        "       'procurementexpertemail', 'procurementpriority', 'quotationnumber',\n",
        "       'quotationpriority', 'quotationstate', 'salesexecutiveemail',\n",
        "       'statemetadata', 'suborderids', 'subtotal',\n",
        "       'technicalsalesexecutiveemail', 'updatedat']"
      ],
      "metadata": {
        "id": "QNIX0V6uTaLK"
      },
      "execution_count": 6,
      "outputs": []
    },
    {
      "cell_type": "code",
      "source": [
        "df_quotations.columns=cols"
      ],
      "metadata": {
        "id": "DPRq177nTcVJ"
      },
      "execution_count": 7,
      "outputs": []
    },
    {
      "cell_type": "code",
      "source": [
        "colomn1=['__v', '_id', 'city', 'companyaddress', 'companyname', 'contactnumber',\n",
        "       'createdat', 'customername', 'customerpriority', 'customerrazorpayid',\n",
        "       'email', 'gstin', 'industrysegment', 'numberofquotations', 'pincode',\n",
        "       'state', 'updatedat']"
      ],
      "metadata": {
        "id": "TrWz-DelTd6k"
      },
      "execution_count": 8,
      "outputs": []
    },
    {
      "cell_type": "code",
      "source": [
        "df_customer.columns=colomn1"
      ],
      "metadata": {
        "id": "4O81mlM2UfXF"
      },
      "execution_count": 9,
      "outputs": []
    },
    {
      "cell_type": "code",
      "source": [
        "df_activity.columns"
      ],
      "metadata": {
        "colab": {
          "base_uri": "https://localhost:8080/"
        },
        "id": "m3FXxm-PU4A3",
        "outputId": "4f743573-4785-4345-8661-311379d49585"
      },
      "execution_count": 10,
      "outputs": [
        {
          "output_type": "execute_result",
          "data": {
            "text/plain": [
              "Index(['__v', '_id', 'addedByEmail', 'addedByName', 'createdAt', 'entityId',\n",
              "       'entityType', 'logEventDescription', 'logEventType', 'updatedAt'],\n",
              "      dtype='object')"
            ]
          },
          "metadata": {},
          "execution_count": 10
        }
      ]
    },
    {
      "cell_type": "code",
      "source": [
        "col1=['__v', '_id', 'addedbyemail', 'addedbyname', 'createdat', 'entityid',\n",
        "       'entitytype', 'logeventdescription', 'logeventtype', 'updatedat']"
      ],
      "metadata": {
        "id": "oHCsXuReVEb7"
      },
      "execution_count": 11,
      "outputs": []
    },
    {
      "cell_type": "code",
      "source": [
        "df_activity.columns = col1"
      ],
      "metadata": {
        "id": "C-00eYsIVKAM"
      },
      "execution_count": 12,
      "outputs": []
    },
    {
      "cell_type": "code",
      "source": [
        "columns=['_id','createdat','isparent','parentid','pricinganalystemail','salesexecutiveemail','technicalsalesexecutiveemail',\n",
        "    'procurementcoordinatoremail','procurementexpertemail','procurementpriority','quotationnumber','quotationpriority',\n",
        "    'quotationstate','statemetadata','updatedat','customeremail','customerid','customername','companyname','contactnumber',\n",
        "    'gstin','industrysegment','opened_timestamp','closed_timestamp','archived_timestamp','converted_timestamp','inprogress_timestamp',\n",
        "    'ts_assigned_timestamp','pc_auto_assigned_timestamp','pe_auto_assigned_timestamp','pa_assigned_timestamp','parallel_pc_auto_assigned_timestamp',\n",
        "    'parallel_pe_auto_assigned_timestamp','quotation_starttime','ts_assignedtime','pc_assignedtime','pa_assignedtime',\n",
        "    'timeto_quotationconvertion','quotation_processingtime']\n",
        "df_meta_quotations=pd.DataFrame(columns=columns)"
      ],
      "metadata": {
        "id": "hZui3qERVczi"
      },
      "execution_count": 13,
      "outputs": []
    },
    {
      "cell_type": "code",
      "source": [
        "df_meta_quotations"
      ],
      "metadata": {
        "colab": {
          "base_uri": "https://localhost:8080/",
          "height": 142
        },
        "id": "ra6lQijbW-uP",
        "outputId": "28765277-2444-4aa2-d6b9-5f21c6fe4d23"
      },
      "execution_count": 14,
      "outputs": [
        {
          "output_type": "execute_result",
          "data": {
            "text/plain": [
              "Empty DataFrame\n",
              "Columns: [_id, createdat, isparent, parentid, pricinganalystemail, salesexecutiveemail, technicalsalesexecutiveemail, procurementcoordinatoremail, procurementexpertemail, procurementpriority, quotationnumber, quotationpriority, quotationstate, statemetadata, updatedat, customeremail, customerid, customername, companyname, contactnumber, gstin, industrysegment, opened_timestamp, closed_timestamp, archived_timestamp, converted_timestamp, inprogress_timestamp, ts_assigned_timestamp, pc_auto_assigned_timestamp, pe_auto_assigned_timestamp, pa_assigned_timestamp, parallel_pc_auto_assigned_timestamp, parallel_pe_auto_assigned_timestamp, quotation_starttime, ts_assignedtime, pc_assignedtime, pa_assignedtime, timeto_quotationconvertion, quotation_processingtime]\n",
              "Index: []\n",
              "\n",
              "[0 rows x 39 columns]"
            ],
            "text/html": [
              "\n",
              "  <div id=\"df-51343855-1880-4ed1-a710-89df12a3963a\">\n",
              "    <div class=\"colab-df-container\">\n",
              "      <div>\n",
              "<style scoped>\n",
              "    .dataframe tbody tr th:only-of-type {\n",
              "        vertical-align: middle;\n",
              "    }\n",
              "\n",
              "    .dataframe tbody tr th {\n",
              "        vertical-align: top;\n",
              "    }\n",
              "\n",
              "    .dataframe thead th {\n",
              "        text-align: right;\n",
              "    }\n",
              "</style>\n",
              "<table border=\"1\" class=\"dataframe\">\n",
              "  <thead>\n",
              "    <tr style=\"text-align: right;\">\n",
              "      <th></th>\n",
              "      <th>_id</th>\n",
              "      <th>createdat</th>\n",
              "      <th>isparent</th>\n",
              "      <th>parentid</th>\n",
              "      <th>pricinganalystemail</th>\n",
              "      <th>salesexecutiveemail</th>\n",
              "      <th>technicalsalesexecutiveemail</th>\n",
              "      <th>procurementcoordinatoremail</th>\n",
              "      <th>procurementexpertemail</th>\n",
              "      <th>procurementpriority</th>\n",
              "      <th>...</th>\n",
              "      <th>pe_auto_assigned_timestamp</th>\n",
              "      <th>pa_assigned_timestamp</th>\n",
              "      <th>parallel_pc_auto_assigned_timestamp</th>\n",
              "      <th>parallel_pe_auto_assigned_timestamp</th>\n",
              "      <th>quotation_starttime</th>\n",
              "      <th>ts_assignedtime</th>\n",
              "      <th>pc_assignedtime</th>\n",
              "      <th>pa_assignedtime</th>\n",
              "      <th>timeto_quotationconvertion</th>\n",
              "      <th>quotation_processingtime</th>\n",
              "    </tr>\n",
              "  </thead>\n",
              "  <tbody>\n",
              "  </tbody>\n",
              "</table>\n",
              "<p>0 rows × 39 columns</p>\n",
              "</div>\n",
              "      <button class=\"colab-df-convert\" onclick=\"convertToInteractive('df-51343855-1880-4ed1-a710-89df12a3963a')\"\n",
              "              title=\"Convert this dataframe to an interactive table.\"\n",
              "              style=\"display:none;\">\n",
              "        \n",
              "  <svg xmlns=\"http://www.w3.org/2000/svg\" height=\"24px\"viewBox=\"0 0 24 24\"\n",
              "       width=\"24px\">\n",
              "    <path d=\"M0 0h24v24H0V0z\" fill=\"none\"/>\n",
              "    <path d=\"M18.56 5.44l.94 2.06.94-2.06 2.06-.94-2.06-.94-.94-2.06-.94 2.06-2.06.94zm-11 1L8.5 8.5l.94-2.06 2.06-.94-2.06-.94L8.5 2.5l-.94 2.06-2.06.94zm10 10l.94 2.06.94-2.06 2.06-.94-2.06-.94-.94-2.06-.94 2.06-2.06.94z\"/><path d=\"M17.41 7.96l-1.37-1.37c-.4-.4-.92-.59-1.43-.59-.52 0-1.04.2-1.43.59L10.3 9.45l-7.72 7.72c-.78.78-.78 2.05 0 2.83L4 21.41c.39.39.9.59 1.41.59.51 0 1.02-.2 1.41-.59l7.78-7.78 2.81-2.81c.8-.78.8-2.07 0-2.86zM5.41 20L4 18.59l7.72-7.72 1.47 1.35L5.41 20z\"/>\n",
              "  </svg>\n",
              "      </button>\n",
              "      \n",
              "  <style>\n",
              "    .colab-df-container {\n",
              "      display:flex;\n",
              "      flex-wrap:wrap;\n",
              "      gap: 12px;\n",
              "    }\n",
              "\n",
              "    .colab-df-convert {\n",
              "      background-color: #E8F0FE;\n",
              "      border: none;\n",
              "      border-radius: 50%;\n",
              "      cursor: pointer;\n",
              "      display: none;\n",
              "      fill: #1967D2;\n",
              "      height: 32px;\n",
              "      padding: 0 0 0 0;\n",
              "      width: 32px;\n",
              "    }\n",
              "\n",
              "    .colab-df-convert:hover {\n",
              "      background-color: #E2EBFA;\n",
              "      box-shadow: 0px 1px 2px rgba(60, 64, 67, 0.3), 0px 1px 3px 1px rgba(60, 64, 67, 0.15);\n",
              "      fill: #174EA6;\n",
              "    }\n",
              "\n",
              "    [theme=dark] .colab-df-convert {\n",
              "      background-color: #3B4455;\n",
              "      fill: #D2E3FC;\n",
              "    }\n",
              "\n",
              "    [theme=dark] .colab-df-convert:hover {\n",
              "      background-color: #434B5C;\n",
              "      box-shadow: 0px 1px 3px 1px rgba(0, 0, 0, 0.15);\n",
              "      filter: drop-shadow(0px 1px 2px rgba(0, 0, 0, 0.3));\n",
              "      fill: #FFFFFF;\n",
              "    }\n",
              "  </style>\n",
              "\n",
              "      <script>\n",
              "        const buttonEl =\n",
              "          document.querySelector('#df-51343855-1880-4ed1-a710-89df12a3963a button.colab-df-convert');\n",
              "        buttonEl.style.display =\n",
              "          google.colab.kernel.accessAllowed ? 'block' : 'none';\n",
              "\n",
              "        async function convertToInteractive(key) {\n",
              "          const element = document.querySelector('#df-51343855-1880-4ed1-a710-89df12a3963a');\n",
              "          const dataTable =\n",
              "            await google.colab.kernel.invokeFunction('convertToInteractive',\n",
              "                                                     [key], {});\n",
              "          if (!dataTable) return;\n",
              "\n",
              "          const docLinkHtml = 'Like what you see? Visit the ' +\n",
              "            '<a target=\"_blank\" href=https://colab.research.google.com/notebooks/data_table.ipynb>data table notebook</a>'\n",
              "            + ' to learn more about interactive tables.';\n",
              "          element.innerHTML = '';\n",
              "          dataTable['output_type'] = 'display_data';\n",
              "          await google.colab.output.renderOutput(dataTable, element);\n",
              "          const docLink = document.createElement('div');\n",
              "          docLink.innerHTML = docLinkHtml;\n",
              "          element.appendChild(docLink);\n",
              "        }\n",
              "      </script>\n",
              "    </div>\n",
              "  </div>\n",
              "  "
            ]
          },
          "metadata": {},
          "execution_count": 14
        }
      ]
    },
    {
      "cell_type": "code",
      "source": [
        "columns_df=['_id','createdat','isparent','parentid','pricinganalystemail','salesexecutiveemail','technicalsalesexecutiveemail',\n",
        "    'procurementcoordinatoremail','procurementexpertemail','procurementpriority','quotationnumber','quotationpriority',\n",
        "    'quotationstate','statemetadata','updatedat','customeremail','customerid','customername']"
      ],
      "metadata": {
        "id": "mstqZG7rXIy4"
      },
      "execution_count": 15,
      "outputs": []
    },
    {
      "cell_type": "code",
      "source": [
        "for col in columns_df:\n",
        "  df_meta_quotations[f'{col}']=df_quotations[f'{col}']\n"
      ],
      "metadata": {
        "id": "80hNrIZqX8Gb"
      },
      "execution_count": 16,
      "outputs": []
    },
    {
      "cell_type": "code",
      "source": [
        "count=0\n",
        "for x in range(len(df_meta_quotations['customerid'])):\n",
        "  for y in range(len(df_customer['_id'])) :\n",
        "    if df_meta_quotations.at[x,'customerid']==df_customer.at[y,'_id']:\n",
        "      df_meta_quotations.at[x,'companyname']=df_customer.at[y,'companyname']\n",
        "      df_meta_quotations.at[x,'contactnumber']=df_customer.at[y,'contactnumber']\n",
        "      df_meta_quotations.at[x,'gstin']=df_customer.at[y,'gstin']\n",
        "      df_meta_quotations.at[x,'industrysegment']=df_customer.at[y,'industrysegment']\n",
        "      count+=1\n",
        "    else:\n",
        "      continue\n",
        "count"
      ],
      "metadata": {
        "colab": {
          "base_uri": "https://localhost:8080/"
        },
        "id": "nrEnsG_MaAOL",
        "outputId": "fbd21996-2cba-4430-b2f7-bc811973e053"
      },
      "execution_count": 17,
      "outputs": [
        {
          "output_type": "execute_result",
          "data": {
            "text/plain": [
              "155"
            ]
          },
          "metadata": {},
          "execution_count": 17
        }
      ]
    },
    {
      "cell_type": "code",
      "source": [
        "\n",
        "count=0\n",
        "for x in range(len(df_meta_quotations['_id'])):\n",
        "  for y in range(len(df_activity['entityid'])) :\n",
        "    if df_meta_quotations.at[x,'_id']==df_activity.at[y,'entityid']:\n",
        "      if df_activity.at[y,'entitytype']=='quotation':\n",
        "        if df_activity.at[y,'logeventtype']=='Opened':\n",
        "          df_meta_quotations.at[x,'opened_timestamp']=df_activity.at[y,'createdat']\n",
        "        elif df_activity.at[y,'logeventtype']=='Closed':\n",
        "          df_meta_quotations.at[x,'closed_timestamp']=df_activity.at[y,'createdat']\n",
        "        elif df_activity.at[y,'logeventtype']=='Archived':\n",
        "          df_meta_quotations.at[x,'archived_timestamp']=df_activity.at[y,'createdat']\n",
        "        elif df_activity.at[y,'logeventtype']=='Converted':\n",
        "          df_meta_quotations.at[x,'converted_timestamp']=df_activity.at[y,'createdat']\n",
        "        elif df_activity.at[y,'logeventtype']=='In Progress':\n",
        "          df_meta_quotations.at[x,'inprogress_timestamp']=df_activity.at[y,'createdat']\n",
        "        elif df_activity.at[y,'logeventtype']=='Technical Sales Assigned':\n",
        "          df_meta_quotations.at[x,'ts_assigned_timestamp']=df_activity.at[y,'createdat']\n",
        "        elif df_activity.at[y,'logeventtype']=='Procurement Coordinator Auto Assigned':\n",
        "          df_meta_quotations.at[x,'pc_auto_assigned_timestamp']=df_activity.at[y,'createdat']\n",
        "        elif df_activity.at[y,'logeventtype']=='Procurement Expert Auto Assigned':\n",
        "          df_meta_quotations.at[x,'pe_auto_assigned_timestamp']=df_activity.at[y,'createdat']\n",
        "        elif df_activity.at[y,'logeventtype']=='Pricing Analyst Assigned':\n",
        "          df_meta_quotations.at[x,'pa_assigned_timestamp']=df_activity.at[y,'createdat']\n",
        "        elif df_activity.at[y,'logeventtype']=='Parallel Procurement Coordinator Quotation Created':\n",
        "          df_meta_quotations.at[x,'parallel_pc_auto_assigned_timestamp']=df_activity.at[y,'createdat']\n",
        "        elif df_activity.at[y,'logeventtype']=='Parallel Procurement Expert Quotation Created':\n",
        "          df_meta_quotations.at[x,'parallel_pe_auto_assigned_timestamp']=df_activity.at[y,'createdat']\n",
        "\n",
        "      \n",
        "    else:\n",
        "      continue\n",
        "      \n",
        "count"
      ],
      "metadata": {
        "colab": {
          "base_uri": "https://localhost:8080/"
        },
        "id": "vEco8zS6av9X",
        "outputId": "885d9f73-fbf3-4ef5-97be-3e1b5784cb79"
      },
      "execution_count": 18,
      "outputs": [
        {
          "output_type": "execute_result",
          "data": {
            "text/plain": [
              "0"
            ]
          },
          "metadata": {},
          "execution_count": 18
        }
      ]
    },
    {
      "cell_type": "code",
      "source": [
        "df_activity.columns"
      ],
      "metadata": {
        "colab": {
          "base_uri": "https://localhost:8080/"
        },
        "id": "72247vcjdzSm",
        "outputId": "3da6544a-9e0d-469d-f91b-127729bee697"
      },
      "execution_count": 19,
      "outputs": [
        {
          "output_type": "execute_result",
          "data": {
            "text/plain": [
              "Index(['__v', '_id', 'addedbyemail', 'addedbyname', 'createdat', 'entityid',\n",
              "       'entitytype', 'logeventdescription', 'logeventtype', 'updatedat'],\n",
              "      dtype='object')"
            ]
          },
          "metadata": {},
          "execution_count": 19
        }
      ]
    },
    {
      "cell_type": "code",
      "source": [
        "df_meta_quotations['inprogress_timestamp']=pd.to_datetime(df_meta_quotations['inprogress_timestamp'])\n",
        "df_meta_quotations['opened_timestamp']=pd.to_datetime(df_meta_quotations['opened_timestamp'])\n",
        "df_meta_quotations['ts_assigned_timestamp']=pd.to_datetime(df_meta_quotations['ts_assigned_timestamp'])\n",
        "df_meta_quotations['pa_assigned_timestamp']=pd.to_datetime(df_meta_quotations['pa_assigned_timestamp'])\n",
        "df_meta_quotations['converted_timestamp']=pd.to_datetime(df_meta_quotations['converted_timestamp'])"
      ],
      "metadata": {
        "id": "KGcX67Aod1xB"
      },
      "execution_count": 20,
      "outputs": []
    },
    {
      "cell_type": "code",
      "source": [
        "df_meta_quotations['quotation_starttime']=df_meta_quotations['inprogress_timestamp']-df_meta_quotations['opened_timestamp']\n",
        "df_meta_quotations['ts_assignedtime']=df_meta_quotations['ts_assigned_timestamp']-df_meta_quotations['inprogress_timestamp']\n",
        "df_meta_quotations['pa_assignedtime']=df_meta_quotations['pa_assigned_timestamp']-df_meta_quotations['inprogress_timestamp']\n",
        "df_meta_quotations['timeto_quotationconvertion']=df_meta_quotations['converted_timestamp']-df_meta_quotations['inprogress_timestamp']\n",
        "df_meta_quotations['quotation_processingtime']=df_meta_quotations['converted_timestamp']-df_meta_quotations['opened_timestamp']"
      ],
      "metadata": {
        "id": "pY354ftAvYw5"
      },
      "execution_count": 21,
      "outputs": []
    },
    {
      "cell_type": "code",
      "source": [
        "for z in range(len(df_meta_quotations['_id'])):\n",
        "  if (pd.isnull(df_meta_quotations.at[z,'inprogress_timestamp']) or pd.isnull(df_meta_quotations.at[z,'opened_timestamp'])):\n",
        "    continue\n",
        "  else:\n",
        "    df_meta_quotations.at[z,'quotation_starttime']=(df_meta_quotations.at[z,'quotation_starttime'].seconds/60)+(df_meta_quotations.at[z,'quotation_starttime'].days*1140)\n"
      ],
      "metadata": {
        "id": "TsuL7Jjg8FZi"
      },
      "execution_count": 22,
      "outputs": []
    },
    {
      "cell_type": "code",
      "source": [
        "for z in range(len(df_meta_quotations['_id'])):\n",
        "  if (pd.isnull(df_meta_quotations.at[z,'ts_assigned_timestamp']) or pd.isnull(df_meta_quotations.at[z,'inprogress_timestamp'])):\n",
        "    continue\n",
        "  else:\n",
        "    df_meta_quotations.at[z,'ts_assignedtime']=(df_meta_quotations.at[z,'ts_assignedtime'].seconds/60)+(df_meta_quotations.at[z,'ts_assignedtime'].days*1140)\n"
      ],
      "metadata": {
        "id": "fFtnzJ_88oXa"
      },
      "execution_count": 23,
      "outputs": []
    },
    {
      "cell_type": "code",
      "source": [
        "for z in range(len(df_meta_quotations['_id'])):\n",
        "  if (pd.isnull(df_meta_quotations.at[z,'inprogress_timestamp']) or pd.isnull(df_meta_quotations.at[z,'pa_assigned_timestamp'])):\n",
        "    continue\n",
        "  else:\n",
        "    df_meta_quotations.at[z,'pa_assignedtime']=(df_meta_quotations.at[z,'pa_assignedtime'].seconds/60)+(df_meta_quotations.at[z,'pa_assignedtime'].days*1140)\n"
      ],
      "metadata": {
        "id": "RcozGSFC8qZx"
      },
      "execution_count": 24,
      "outputs": []
    },
    {
      "cell_type": "code",
      "source": [
        "for z in range(len(df_meta_quotations['_id'])):\n",
        "  if (pd.isnull(df_meta_quotations.at[z,'inprogress_timestamp']) or pd.isnull(df_meta_quotations.at[z,'converted_timestamp'])):\n",
        "    continue\n",
        "  else:\n",
        "    df_meta_quotations.at[z,'timeto_quotationconvertion']=(df_meta_quotations.at[z,'timeto_quotationconvertion'].seconds/60)+(df_meta_quotations.at[z,'timeto_quotationconvertion'].days*1140)\n"
      ],
      "metadata": {
        "id": "PNPvTS4D8rRF"
      },
      "execution_count": 25,
      "outputs": []
    },
    {
      "cell_type": "code",
      "source": [
        "for z in range(len(df_meta_quotations['_id'])):\n",
        "  if (pd.isnull(df_meta_quotations.at[z,'converted_timestamp']) or pd.isnull(df_meta_quotations.at[z,'opened_timestamp'])):\n",
        "    continue\n",
        "  else:\n",
        "    df_meta_quotations.at[z,'quotation_processingtime']=(df_meta_quotations.at[z,'quotation_processingtime'].seconds/60)+(df_meta_quotations.at[z,'quotation_processingtime'].days*1140)\n"
      ],
      "metadata": {
        "id": "YuwziV0q8sRV"
      },
      "execution_count": 26,
      "outputs": []
    },
    {
      "cell_type": "code",
      "source": [
        "df_meta_quotations.to_csv('Test1.csv')"
      ],
      "metadata": {
        "id": "8qhq0o_U8XA7"
      },
      "execution_count": 28,
      "outputs": []
    },
    {
      "cell_type": "code",
      "source": [],
      "metadata": {
        "id": "z3jt7KUN8e3D"
      },
      "execution_count": 27,
      "outputs": []
    }
  ]
}